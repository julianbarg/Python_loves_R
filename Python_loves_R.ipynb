{
 "cells": [
  {
   "cell_type": "markdown",
   "metadata": {},
   "source": [
    "# Calling R in a Python Notebook"
   ]
  },
  {
   "cell_type": "markdown",
   "metadata": {},
   "source": [
    "## Load and setup rpy2"
   ]
  },
  {
   "cell_type": "code",
   "execution_count": 1,
   "metadata": {},
   "outputs": [],
   "source": [
    "import rpy2.rinterface\n",
    "\n",
    "import pandas as pd\n",
    "import numpy as np\n",
    "import seaborn as sns\n",
    "import matplotlib.pyplot as plt"
   ]
  },
  {
   "cell_type": "code",
   "execution_count": 2,
   "metadata": {},
   "outputs": [],
   "source": [
    "%load_ext rpy2.ipython"
   ]
  },
  {
   "cell_type": "markdown",
   "metadata": {},
   "source": [
    "## Running R in a cell"
   ]
  },
  {
   "cell_type": "code",
   "execution_count": 3,
   "metadata": {},
   "outputs": [
    {
     "data": {
      "image/png": "[encoded data removed]"
     },
     "metadata": {},
     "output_type": "display_data"
    }
   ],
   "source": [
    "%%R\n",
    "X_vals <- c(1,2,3,4,5)\n",
    "y_vals <- c(1,2,4,8,16)\n",
    "\n",
    "plot(X_vals, y_vals, col='blue', pch=3, main='R plot in Python')"
   ]
  },
  {
   "cell_type": "markdown",
   "metadata": {},
   "source": [
    "## Moving objects from Python to R"
   ]
  },
  {
   "cell_type": "markdown",
   "metadata": {},
   "source": [
    "We create the pandas dataframe to be loaded into R"
   ]
  },
  {
   "cell_type": "code",
   "execution_count": 4,
   "metadata": {},
   "outputs": [
    {
     "name": "stdout",
     "output_type": "stream",
     "text": [
      "[4 2 1 4 3 3 4 4 1 0]\n",
      "[10.56  2.43  2.61  4.28  8.93  3.79  6.81  6.16  0.91  0.  ]\n"
     ]
    }
   ],
   "source": [
    "np.random.seed(666)\n",
    "A = np.random.randint(5, size=10)\n",
    "mod = np.random.normal(size=10) + 2\n",
    "B = A * mod\n",
    "print(A)\n",
    "print(B.round(2))"
   ]
  },
  {
   "cell_type": "code",
   "execution_count": 5,
   "metadata": {},
   "outputs": [
    {
     "name": "stdout",
     "output_type": "stream",
     "text": [
      "   A          B\n",
      "0  4  10.562293\n",
      "1  2   2.427114\n",
      "2  1   2.608870\n",
      "3  4   4.275953\n",
      "4  3   8.934667\n",
      "5  3   3.789246\n",
      "6  4   6.805070\n",
      "7  4   6.157651\n",
      "8  1   0.911207\n",
      "9  0   0.000000\n"
     ]
    }
   ],
   "source": [
    "python_df = pd.DataFrame({'A': A,\n",
    "                          'B': B})\n",
    "print(python_df)"
   ]
  },
  {
   "cell_type": "markdown",
   "metadata": {},
   "source": [
    "To use the dataframe in R, we have to specify the object to use in the header."
   ]
  },
  {
   "cell_type": "code",
   "execution_count": 6,
   "metadata": {},
   "outputs": [
    {
     "name": "stderr",
     "output_type": "stream",
     "text": [
      "/usr/local/lib/python3.6/dist-packages/rpy2/robjects/pandas2ri.py:191: FutureWarning: from_items is deprecated. Please use DataFrame.from_dict(dict(items), ...) instead. DataFrame.from_dict(OrderedDict(items)) may be used to preserve the key order.\n",
      "  res = PandasDataFrame.from_items(items)\n"
     ]
    },
    {
     "data": {
      "image/png": "[encoded data removed]"
     },
     "metadata": {},
     "output_type": "display_data"
    }
   ],
   "source": [
    "%%R -i python_df\n",
    "\n",
    "# Use sink to suppress messages\n",
    "plot(python_df, \n",
    "     main='Plotting a Pandas Dataframe in R', \n",
    "     col='blue', \n",
    "     pch=9)"
   ]
  },
  {
   "cell_type": "markdown",
   "metadata": {},
   "source": [
    "## Moving objects from R to Python"
   ]
  },
  {
   "cell_type": "markdown",
   "metadata": {},
   "source": [
    "One way for us to be able to use R objects in Python is to declare so in the cell header."
   ]
  },
  {
   "cell_type": "code",
   "execution_count": 7,
   "metadata": {},
   "outputs": [],
   "source": [
    "%%R -o model -o coefficients\n",
    "\n",
    "model <- lm(B ~ A, data=python_df)\n",
    "coefficients <- model$coefficients"
   ]
  },
  {
   "cell_type": "markdown",
   "metadata": {},
   "source": [
    "After doing so, we are able to simply call those objects in Python as we would with regular python objects. Notice the datatype."
   ]
  },
  {
   "cell_type": "code",
   "execution_count": 8,
   "metadata": {},
   "outputs": [
    {
     "name": "stdout",
     "output_type": "stream",
     "text": [
      "\n",
      "Call:\n",
      "lm(formula = B ~ A, data = python_df)\n",
      "\n",
      "Coefficients:\n",
      "(Intercept)            A  \n",
      "   -0.05861      1.80993  \n",
      "\n",
      "\n",
      "<class 'rpy2.robjects.vectors.ListVector'>\n",
      "\n",
      "---\n",
      "\n",
      "(Intercept)           A \n",
      "-0.05860516  1.80992769 \n",
      "\n",
      "<class 'rpy2.robjects.vectors.FloatVector'>\n"
     ]
    }
   ],
   "source": [
    "print(model)\n",
    "print(type(model))\n",
    "print('\\n---\\n')\n",
    "print(coefficients)\n",
    "print(type(coefficients))"
   ]
  },
  {
   "cell_type": "markdown",
   "metadata": {},
   "source": [
    "Some objects, such as dataframes, are automatically transformed into their Python equivalent. Here, we load a dataframe in R and then use seaborn to visualize it, as we would with a regular pandas dataframe."
   ]
  },
  {
   "cell_type": "code",
   "execution_count": 9,
   "metadata": {},
   "outputs": [
    {
     "name": "stderr",
     "output_type": "stream",
     "text": [
      "/usr/local/lib/python3.6/dist-packages/rpy2/robjects/pandas2ri.py:191: FutureWarning: from_items is deprecated. Please use DataFrame.from_dict(dict(items), ...) instead. DataFrame.from_dict(OrderedDict(items)) may be used to preserve the key order.\n",
      "  res = PandasDataFrame.from_items(items)\n"
     ]
    }
   ],
   "source": [
    "%%R -o cars_df\n",
    "\n",
    "library(datasets)\n",
    "cars_df <- cars"
   ]
  },
  {
   "cell_type": "code",
   "execution_count": 10,
   "metadata": {},
   "outputs": [
    {
     "name": "stdout",
     "output_type": "stream",
     "text": [
      "   speed  dist\n",
      "0    4.0   2.0\n",
      "1    4.0  10.0\n",
      "2    7.0   4.0\n",
      "3    7.0  22.0\n",
      "4    8.0  16.0\n"
     ]
    }
   ],
   "source": [
    "print(cars_df.head())"
   ]
  },
  {
   "cell_type": "code",
   "execution_count": 11,
   "metadata": {},
   "outputs": [
    {
     "name": "stderr",
     "output_type": "stream",
     "text": [
      "/usr/local/lib/python3.6/dist-packages/seaborn/axisgrid.py:2065: UserWarning: The `size` parameter has been renamed to `height`; pleaes update your code.\n",
      "  warnings.warn(msg, UserWarning)\n"
     ]
    },
    {
     "data": {
      "image/png": "[encoded data removed]",
      "text/plain": [
       "<Figure size 360x360 with 1 Axes>"
      ]
     },
     "metadata": {
      "needs_background": "light"
     },
     "output_type": "display_data"
    }
   ],
   "source": [
    "sns.pairplot(x_vars=['speed'], \n",
    "             y_vars=['dist'], \n",
    "             data=cars_df,\n",
    "             size=5)\n",
    "plt.show()"
   ]
  },
  {
   "cell_type": "markdown",
   "metadata": {},
   "source": [
    "## Other options for sharing objects between R and Python"
   ]
  },
  {
   "cell_type": "markdown",
   "metadata": {},
   "source": [
    "We can still use R objects in Python if we do not declare so in the header my manually calling them using %Rget"
   ]
  },
  {
   "cell_type": "code",
   "execution_count": 12,
   "metadata": {},
   "outputs": [
    {
     "data": {
      "text/plain": [
       "[1] 1 2 3 4 5\n"
      ]
     },
     "metadata": {},
     "output_type": "display_data"
    }
   ],
   "source": [
    "%%R\n",
    "\n",
    "my_var = c(1:5)\n",
    "my_var"
   ]
  },
  {
   "cell_type": "code",
   "execution_count": 13,
   "metadata": {},
   "outputs": [
    {
     "name": "stdout",
     "output_type": "stream",
     "text": [
      "[1] 1 2 3 4 5\n",
      "\n",
      "<class 'rpy2.robjects.vectors.IntVector'>\n",
      "\n",
      "---\n",
      "\n",
      "[1, 2, 3, 4, 5]\n"
     ]
    }
   ],
   "source": [
    "my_python_var = %Rget my_var\n",
    "\n",
    "print(my_python_var)\n",
    "print(type(my_python_var))\n",
    "print('\\n---\\n')\n",
    "print(list(my_python_var))"
   ]
  },
  {
   "cell_type": "markdown",
   "metadata": {},
   "source": [
    "Finally, we can push objects from Python to R using Rpush."
   ]
  },
  {
   "cell_type": "code",
   "execution_count": 14,
   "metadata": {},
   "outputs": [],
   "source": [
    "my_python_var2 = np.array([1, 2, 3, 4, 5])\n",
    "my_python_var3 = np.array([1, 2, 4, 8, 16])\n",
    "\n",
    "%Rpush my_python_var2 my_python_var3"
   ]
  },
  {
   "cell_type": "code",
   "execution_count": 15,
   "metadata": {},
   "outputs": [
    {
     "data": {
      "image/png": "[encoded data removed]"
     },
     "metadata": {},
     "output_type": "display_data"
    }
   ],
   "source": [
    "%%R\n",
    "plot(my_python_var2, \n",
    "     my_python_var3,\n",
    "     main='Python objects pushed to R', \n",
    "     col='red', \n",
    "     pch=16)"
   ]
  },
  {
   "cell_type": "code",
   "execution_count": null,
   "metadata": {},
   "outputs": [],
   "source": []
  }
 ],
 "metadata": {
  "kernelspec": {
   "display_name": "Python 3",
   "language": "python",
   "name": "python3"
  },
  "language_info": {
   "codemirror_mode": {
    "name": "ipython",
    "version": 3
   },
   "file_extension": ".py",
   "mimetype": "text/x-python",
   "name": "python",
   "nbconvert_exporter": "python",
   "pygments_lexer": "ipython3",
   "version": "3.6.6"
  }
 },
 "nbformat": 4,
 "nbformat_minor": 2
}
